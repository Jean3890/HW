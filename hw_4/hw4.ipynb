{
 "cells": [
  {
   "cell_type": "code",
   "execution_count": null,
   "metadata": {},
   "outputs": [],
   "source": [
    "west_hemisphere = ['America']\n",
    "east_hemisphere = ['Asia','Europe','Africa','Austarila']\n",
    "\n",
    "print ('west hemisphere:', west_hemisphere)\n",
    "print ('east hemisphere:', east_hemisphere)\n",
    "\n",
    "west_hemisphere.extend(east_hemisphere)\n",
    "west_hemisphere.sort()\n",
    "\n",
    "print ('all continets:', west_hemisphere)"
   ]
  },
  {
   "cell_type": "code",
   "execution_count": null,
   "metadata": {},
   "outputs": [],
   "source": [
    "items = [\n",
    "    ['phone', 'samsung', 8000],\n",
    "    ['phone', 'oppo', 7000],\n",
    "    ['phone', 'nokia', 2000],\n",
    "    ['tablet', 'lenovo', 16000],\n",
    "    ['laptop', 'acer', 30000],\n",
    "    ['laptop', 'hp', 42000],\n",
    "    ['computer', 'apple', 41000],\n",
    "\n",
    "]\n",
    "\n",
    "type = input('Enter type of device: ')\n",
    "\n",
    "for device in items:\n",
    "    if device [0] == type:\n",
    "        print (device)\n",
    "\n",
    "max_price = int(input('Enter max price: '))\n",
    "\n",
    "for gadget in items:\n",
    "    if gadget [2] <= max_price:\n",
    "        print ('You can buy this: ', gadget)"
   ]
  }
 ],
 "metadata": {
  "language_info": {
   "name": "python"
  },
  "orig_nbformat": 4
 },
 "nbformat": 4,
 "nbformat_minor": 2
}
