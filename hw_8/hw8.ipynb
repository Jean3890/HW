{
 "cells": [
  {
   "cell_type": "code",
   "execution_count": null,
   "metadata": {},
   "outputs": [],
   "source": [
    "def degree(a,b):\n",
    "    return a**b \n",
    "\n",
    "def calculate (operand_1, operand_2, operation):\n",
    "    if operation == '^':\n",
    "        result = degree(operand_1, operand_2)\n",
    "    return result    \n",
    "\n",
    "\n",
    "operand_1 = int(input('Введите число A: '))\n",
    "operand_2 = int(input('Введите число B: '))\n",
    "user_operation = input('Enter | ^ |')\n",
    "\n",
    "result = calculate(operand_1, operand_2, user_operation)\n",
    "print (operand_1, user_operation, operand_2, '=', result)\n"
   ]
  },
  {
   "cell_type": "code",
   "execution_count": null,
   "metadata": {},
   "outputs": [],
   "source": [
    "new_post_kiev = {\n",
    "    37 : 'вул. Празька, 24',\n",
    "    39 : 'вул. Маршала Малиновського, 34а',\n",
    "    42 : 'вул. Данила Щербаківського, 33',\n",
    "    47 : 'вул. Вишгородська, 46',\n",
    "    52 : 'просп. М.Бажана, 3',\n",
    "    54 : 'просп. Академіка Палладіна, 25а',\n",
    "    66 : 'вул. Куренівська, 21А',\n",
    "    70 : 'просп. Перемоги, 20'\n",
    "\n",
    "}\n",
    "\n",
    "department = int(input('Введіть номер відділення:'))\n",
    "def post():\n",
    "    if new_post_kiev.get(department):\n",
    "            print (new_post_kiev[department])\n",
    "    else:\n",
    "            print ('Такого відділення не існує')\n",
    "\n",
    "post()"
   ]
  }
 ],
 "metadata": {
  "kernelspec": {
   "display_name": "Python 3.10.4 64-bit",
   "language": "python",
   "name": "python3"
  },
  "language_info": {
   "name": "python",
   "version": "3.10.4"
  },
  "orig_nbformat": 4,
  "vscode": {
   "interpreter": {
    "hash": "369f2c481f4da34e4445cda3fffd2e751bd1c4d706f27375911949ba6bb62e1c"
   }
  }
 },
 "nbformat": 4,
 "nbformat_minor": 2
}
