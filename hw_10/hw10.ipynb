{
 "cells": [
  {
   "cell_type": "code",
   "execution_count": null,
   "metadata": {},
   "outputs": [],
   "source": [
    "def check_phone(phone):\n",
    "    operators_codes = ('067', '097', '050', '066', '099', '063', '093')\n",
    "    correct_len = 10\n",
    "    return len(phone) == correct_len and phone[0:3] in operators_codes\n",
    "\n",
    "def get_operator(phone):\n",
    "    operator_K = ('067', '097')\n",
    "    operator_V = ('050', '066', '099')\n",
    "    operator_L = ('063', '093')\n",
    "\n",
    "    code = phone[0:3]\n",
    "\n",
    "    if code in operator_K:\n",
    "        return 'K'\n",
    "    elif code in operator_V:\n",
    "        return 'V'\n",
    "    elif code in operator_L:        \n",
    "        return 'L' \n",
    "    else:\n",
    "        return None\n",
    "\n",
    "def print_error(error_code, phone):\n",
    "    if error_code == 1:\n",
    "        print('Operator not supported -', phone)\n",
    "    elif error_code == 2:\n",
    "        print('Incorrect phone', phone)\n",
    "\n",
    "source_file = 'C:\\Users\\Dochon\\Desktop\\python\\HOMEWORK\\operators_codes\\phones_num.txt'\n",
    "\n",
    "K_file = 'C:\\Users\\Dochon\\Desktop\\python\\HOMEWORK\\operators_codes\\operatorK.txt'\n",
    "V_file = 'C:\\Users\\Dochon\\Desktop\\python\\HOMEWORK\\operators_codes\\operatorV.txt'\n",
    "L_file = 'C:\\Users\\Dochon\\Desktop\\python\\HOMEWORK\\operators_codes\\operatorL.txt'\n",
    "\n",
    "K_file = open(K_file, 'a')\n",
    "V_file = open(V_file, 'w')\n",
    "L_file = open(L_file, 'w')\n",
    "\n",
    "files = {'K': K_file, 'L': L_file, 'V': V_file}\n",
    "\n",
    "delimiter = '\\n'\n",
    "\n",
    "try:\n",
    "    with open(source_file, 'r') as f:\n",
    "        while True: \n",
    "            phone = f.readline().rstrip(delimiter)\n",
    "            if not phone: \n",
    "                break\n",
    "            phone.rstrip(delimiter)\n",
    "            if(check_phone(phone)):\n",
    "                operator = get_operator(phone)\n",
    "                if operator:\n",
    "                    handle = files[operator]\n",
    "                    handle.write(phone+delimiter)\n",
    "                else:\n",
    "                    print_error(1, phone)\n",
    "            else:\n",
    "                print_error(2, phone)\n",
    "\n",
    "finally:\n",
    "    for handle in files.values():\n",
    "        handle.close()\n",
    "\n",
    "\n"
   ]
  }
 ],
 "metadata": {
  "kernelspec": {
   "display_name": "Python 3.10.4 64-bit",
   "language": "python",
   "name": "python3"
  },
  "language_info": {
   "name": "python",
   "version": "3.10.4"
  },
  "orig_nbformat": 4,
  "vscode": {
   "interpreter": {
    "hash": "369f2c481f4da34e4445cda3fffd2e751bd1c4d706f27375911949ba6bb62e1c"
   }
  }
 },
 "nbformat": 4,
 "nbformat_minor": 2
}
