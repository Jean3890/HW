{
 "cells": [
  {
   "cell_type": "code",
   "execution_count": 4,
   "metadata": {},
   "outputs": [
    {
     "name": "stdout",
     "output_type": "stream",
     "text": [
      "Arsenal 69\n"
     ]
    }
   ],
   "source": [
    "class FootballClub:\n",
    "    club_name = ''\n",
    "    town = ''\n",
    "    score = 0\n",
    "\n",
    "\n",
    "class Championship:\n",
    "    country = ''\n",
    "    chempionship_name = ''\n",
    "    commands = [ ]\n",
    "    def set_teams(self, commands):\n",
    "        self.commands = commands\n",
    "\n",
    "    def get_team_with_min_score(self):\n",
    "        team_with_min_score = self.commands[0]\n",
    "        for current_team in self.commands:\n",
    "            if current_team.score < team_with_min_score.score:\n",
    "                team_with_min_score = current_team\n",
    "        return team_with_min_score\n",
    "\n",
    "\n",
    "team_1 = FootballClub()\n",
    "team_1.club_name = 'Liverpool'\n",
    "team_1.town = 'Liverpool'\n",
    "team_1.score = 92\n",
    "\n",
    "team_2 = FootballClub()\n",
    "team_2.club_name = 'Chelsea'\n",
    "team_2.town = 'London'\n",
    "team_2.score = 74\n",
    "\n",
    "team_3 = FootballClub()\n",
    "team_3.club_name = 'Arsenal'\n",
    "team_3.town = 'London'\n",
    "team_3.score = 69\n",
    "\n",
    "\n",
    "commands = [team_1, team_2, team_3]\n",
    "\n",
    "result = Championship()\n",
    "result.set_teams(commands)\n",
    "\n",
    "team = result.get_team_with_min_score()\n",
    "print(team.club_name, team.score) "
   ]
  }
 ],
 "metadata": {
  "kernelspec": {
   "display_name": "Python 3.10.5 64-bit",
   "language": "python",
   "name": "python3"
  },
  "language_info": {
   "codemirror_mode": {
    "name": "ipython",
    "version": 3
   },
   "file_extension": ".py",
   "mimetype": "text/x-python",
   "name": "python",
   "nbconvert_exporter": "python",
   "pygments_lexer": "ipython3",
   "version": "3.10.5"
  },
  "orig_nbformat": 4,
  "vscode": {
   "interpreter": {
    "hash": "d3e10ef16274dd72e574b8fa73b58450b957d8421a2901baded3cca26fcf5dda"
   }
  }
 },
 "nbformat": 4,
 "nbformat_minor": 2
}
