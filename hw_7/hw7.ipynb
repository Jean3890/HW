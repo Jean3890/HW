{
 "cells": [
  {
   "cell_type": "code",
   "execution_count": null,
   "metadata": {},
   "outputs": [],
   "source": [
    "all_students = {\n",
    "    'Carl' : 4,\n",
    "    'Den' : 3,\n",
    "    'Lora' : 2,\n",
    "    'Alex' : 5,\n",
    "    'Julia' : 4,\n",
    "    'Aria' : 1,\n",
    "    'Raven' : 5\n",
    "}\n",
    "the_best_students = {}\n",
    "\n",
    "for marks in all_students:\n",
    "#    print (marks)\n",
    "    if (all_students[marks]>= 4):\n",
    "        the_best_students.update({marks : all_students[marks]})\n",
    "print (the_best_students)"
   ]
  },
  {
   "cell_type": "code",
   "execution_count": null,
   "metadata": {},
   "outputs": [],
   "source": [
    "weather = {\n",
    "    'Тернопіль' : 17,\n",
    "    'Львів' : 16,\n",
    "    'Житомир' : 18,\n",
    "    'Вінниця' : 19,\n",
    "    'Ужгород' : 22,\n",
    "    'Полтава' : 18\n",
    "}\n",
    "# умова 1\n",
    "town = input('Оберіть місто:')\n",
    "temperature_in_town = weather[town]\n",
    "result1 = 'Температура в місті {} : +{}'.format(town, temperature_in_town) \n",
    "\n",
    "print (result1) \n",
    "\n",
    "#умова 2 \n",
    "average = sum(weather.values()) / len(weather)\n",
    "print ('Середня температура сягає:', round(average))\n",
    "\n",
    "#умова 3\n",
    "coldest = min(weather, key=weather.get)\n",
    "result3 = 'Найбільш холодна температура у місті :  {}, +{}'.format(coldest, weather.get(coldest))\n",
    "\n",
    "print(result3)"
   ]
  }
 ],
 "metadata": {
  "kernelspec": {
   "display_name": "Python 3.10.5 64-bit",
   "language": "python",
   "name": "python3"
  },
  "language_info": {
   "name": "python",
   "version": "3.10.5"
  },
  "orig_nbformat": 4,
  "vscode": {
   "interpreter": {
    "hash": "d3e10ef16274dd72e574b8fa73b58450b957d8421a2901baded3cca26fcf5dda"
   }
  }
 },
 "nbformat": 4,
 "nbformat_minor": 2
}
