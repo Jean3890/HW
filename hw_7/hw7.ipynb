{
 "cells": [
  {
   "cell_type": "code",
   "execution_count": null,
   "metadata": {},
   "outputs": [],
   "source": [
    "all_students = {\n",
    "    'Carl' : 4,\n",
    "    'Den' : 3,\n",
    "    'Lora' : 2,\n",
    "    'Alex' : 5,\n",
    "    'Julia' : 4,\n",
    "    'Aria' : 1,\n",
    "    'Raven' : 5\n",
    "}\n",
    "the_best_students = {}\n",
    "\n",
    "for marks in all_students:\n",
    "#    print (marks)\n",
    "    if (all_students[marks]>= 4):\n",
    "        the_best_students.update({marks : all_students[marks]})\n",
    "print (the_best_students)"
   ]
  },
  {
   "cell_type": "code",
   "execution_count": null,
   "metadata": {},
   "outputs": [],
   "source": [
    "# Знайти температуру в певному місті (вводимо з клавіатури). \n",
    "# Розрахувати средню температуру по всім  містам. \n",
    "# Знайти найбільш \"холодне\" місто (з найменшою температурою)\n",
    "weather = {\n",
    "    'Тернопіль' : 17,\n",
    "    'Львів' : 16,\n",
    "    'Житомир' : 18,\n",
    "    'Вінниця' : 19,\n",
    "    'Ужгород' : 22,\n",
    "    'Полтава' : 18\n",
    "}\n",
    "# умова 1\n",
    "town = input('Оберіть місто:')\n",
    "temperature_in_town = weather[town]\n",
    "result1 = 'Температура в місті {} : +{}'.format(town, temperature_in_town) \n",
    "print (result1) \n",
    "#умова 2 не виходить\n",
    "\n",
    "#умова 3, тут виводить не найбільш холодне місто, виводи просто останній\n",
    "town_name_min = ''\n",
    "town_temperature_min = 0\n",
    "\n",
    "for town_name, town_temp in weather.items():\n",
    "    if  town_temperature_min < town_temp:\n",
    "        town_name_min = town_name\n",
    "        town_temperature_min = town_temp\n",
    "\n",
    "result3 = 'Найбільш холодна температура у місті :  {}, +{}'.format(town_name, town_temp)\n",
    "print(result3)"
   ]
  }
 ],
 "metadata": {
  "kernelspec": {
   "display_name": "Python 3.10.5 64-bit",
   "language": "python",
   "name": "python3"
  },
  "language_info": {
   "name": "python",
   "version": "3.10.5"
  },
  "orig_nbformat": 4,
  "vscode": {
   "interpreter": {
    "hash": "d3e10ef16274dd72e574b8fa73b58450b957d8421a2901baded3cca26fcf5dda"
   }
  }
 },
 "nbformat": 4,
 "nbformat_minor": 2
}
