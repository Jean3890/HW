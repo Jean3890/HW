{
 "cells": [
  {
   "cell_type": "code",
   "execution_count": 1,
   "metadata": {},
   "outputs": [
    {
     "name": "stdout",
     "output_type": "stream",
     "text": [
      "r\n",
      "te\n",
      "rerrer\n",
      "The largest world is:  rerrer\n"
     ]
    }
   ],
   "source": [
    "sent = input('Enter your sentence')\n",
    "delimeter = ' '\n",
    "sentence = sent.rstrip()\n",
    "fix = ' .'\n",
    "sentence = sent + fix\n",
    "\n",
    "is_last = False\n",
    "space_position_prev = 0\n",
    "word_max = ''\n",
    "\n",
    "while not is_last:\n",
    "    space_position_current = sentence.find(delimeter, space_position_prev)\n",
    "    if space_position_current == -1:\n",
    "        print('The largest world is: ', word_max)\n",
    "        break\n",
    "    else:\n",
    "        word = sentence[space_position_prev : space_position_current]\n",
    "        print(word)\n",
    "        space_position_prev = space_position_current + 1\n",
    "\n",
    "        if len(word) > len(word_max):\n",
    "            word_max = word"
   ]
  }
 ],
 "metadata": {
  "kernelspec": {
   "display_name": "Python 3.10.5 64-bit",
   "language": "python",
   "name": "python3"
  },
  "language_info": {
   "codemirror_mode": {
    "name": "ipython",
    "version": 3
   },
   "file_extension": ".py",
   "mimetype": "text/x-python",
   "name": "python",
   "nbconvert_exporter": "python",
   "pygments_lexer": "ipython3",
   "version": "3.10.5"
  },
  "orig_nbformat": 4,
  "vscode": {
   "interpreter": {
    "hash": "d3e10ef16274dd72e574b8fa73b58450b957d8421a2901baded3cca26fcf5dda"
   }
  }
 },
 "nbformat": 4,
 "nbformat_minor": 2
}
