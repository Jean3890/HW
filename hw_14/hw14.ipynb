{
 "cells": [
  {
   "cell_type": "code",
   "execution_count": 1,
   "metadata": {},
   "outputs": [],
   "source": [
    "db_name = 'planet-distance.db'"
   ]
  },
  {
   "cell_type": "code",
   "execution_count": null,
   "metadata": {},
   "outputs": [],
   "source": [
    "import sqlite3\n",
    "conn = sqlite3.connect(db_name)\n",
    "\n",
    "cur = conn.cursor()\n",
    "\n",
    "# Create table\n",
    "cur.execute('''CREATE TABLE IF NOT EXISTS planets\n",
    "               (planet_name text, distance_from_Sun bigint )''')\n",
    "\n",
    "cur.execute(\"\"\"\n",
    "    INSERT INTO planets VALUES \n",
    "        ('Venus', 108000000),\n",
    "        ('Saturn', 1427000000),\n",
    "        ('Neptune', 4504000000),\n",
    "        ('Jupiter', 778000000)\n",
    "\"\"\")\n",
    "    \n",
    "conn.commit()\n",
    "\n",
    "planets = cur.execute('SELECT * FROM planets ORDER BY distance_from_Sun')\n",
    "for row in planets:\n",
    "    print(row)\n",
    "\n",
    "cur.execute('SELECT * FROM planets WHERE distance_from_Sun BETWEEN 100000000 AND 1400000000')\n",
    "print (cur.fetchone())\n",
    "print (cur.fetchone())\n",
    " \n",
    "conn.close()"
   ]
  }
 ],
 "metadata": {
  "kernelspec": {
   "display_name": "Python 3.10.5 64-bit",
   "language": "python",
   "name": "python3"
  },
  "language_info": {
   "codemirror_mode": {
    "name": "ipython",
    "version": 3
   },
   "file_extension": ".py",
   "mimetype": "text/x-python",
   "name": "python",
   "nbconvert_exporter": "python",
   "pygments_lexer": "ipython3",
   "version": "3.10.5"
  },
  "orig_nbformat": 4,
  "vscode": {
   "interpreter": {
    "hash": "d3e10ef16274dd72e574b8fa73b58450b957d8421a2901baded3cca26fcf5dda"
   }
  }
 },
 "nbformat": 4,
 "nbformat_minor": 2
}
